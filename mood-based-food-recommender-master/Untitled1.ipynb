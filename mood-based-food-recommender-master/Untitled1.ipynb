{
 "cells": [
  {
   "cell_type": "code",
   "execution_count": 1,
   "id": "exempt-audio",
   "metadata": {},
   "outputs": [
    {
     "ename": "ModuleNotFoundError",
     "evalue": "No module named 'wordcloud'",
     "output_type": "error",
     "traceback": [
      "\u001b[1;31m---------------------------------------------------------------------------\u001b[0m",
      "\u001b[1;31mModuleNotFoundError\u001b[0m                       Traceback (most recent call last)",
      "\u001b[1;32m<ipython-input-1-9be8bd8939c3>\u001b[0m in \u001b[0;36m<module>\u001b[1;34m\u001b[0m\n\u001b[0;32m      2\u001b[0m \u001b[1;32mimport\u001b[0m \u001b[0mpandas\u001b[0m \u001b[1;32mas\u001b[0m \u001b[0mpd\u001b[0m\u001b[1;33m\u001b[0m\u001b[1;33m\u001b[0m\u001b[0m\n\u001b[0;32m      3\u001b[0m \u001b[1;32mimport\u001b[0m \u001b[0mmatplotlib\u001b[0m\u001b[1;33m.\u001b[0m\u001b[0mpyplot\u001b[0m \u001b[1;32mas\u001b[0m \u001b[0mplt\u001b[0m\u001b[1;33m\u001b[0m\u001b[1;33m\u001b[0m\u001b[0m\n\u001b[1;32m----> 4\u001b[1;33m \u001b[1;32mfrom\u001b[0m \u001b[0mwordcloud\u001b[0m \u001b[1;32mimport\u001b[0m \u001b[0mWordCloud\u001b[0m\u001b[1;33m,\u001b[0m \u001b[0mSTOPWORDS\u001b[0m\u001b[1;33m\u001b[0m\u001b[1;33m\u001b[0m\u001b[0m\n\u001b[0m\u001b[0;32m      5\u001b[0m \u001b[0mstopwords\u001b[0m \u001b[1;33m=\u001b[0m \u001b[0mset\u001b[0m\u001b[1;33m(\u001b[0m\u001b[0mSTOPWORDS\u001b[0m\u001b[1;33m)\u001b[0m\u001b[1;33m\u001b[0m\u001b[1;33m\u001b[0m\u001b[0m\n\u001b[0;32m      6\u001b[0m \u001b[1;32mimport\u001b[0m \u001b[0mseaborn\u001b[0m \u001b[1;32mas\u001b[0m \u001b[0msns\u001b[0m\u001b[1;33m\u001b[0m\u001b[1;33m\u001b[0m\u001b[0m\n",
      "\u001b[1;31mModuleNotFoundError\u001b[0m: No module named 'wordcloud'"
     ]
    }
   ],
   "source": [
    "import numpy as np\n",
    "import pandas as pd\n",
    "import matplotlib.pyplot as plt\n",
    "from wordcloud import WordCloud, STOPWORDS\n",
    "stopwords = set(STOPWORDS)\n",
    "import seaborn as sns\n",
    "from plotly.offline import init_notebook_mode, iplot\n",
    "init_notebook_mode()\n",
    "from collections import Counter\n",
    "from nltk.corpus import stopwords\n",
    "import nltk\n",
    "nltk.download('stopwords')\n",
    "stop = set(stopwords.words('english'))\n",
    "stop.update(['.', ',', '\"', \"'\", '?', '!', ':', ';', '(', ')', '[', ']', '{', '}',''])\n",
    "from nltk.stem import WordNetLemmatizer"
   ]
  },
  {
   "cell_type": "code",
   "execution_count": 2,
   "id": "modified-polish",
   "metadata": {},
   "outputs": [],
   "source": [
    "res_data = pd.read_csv('zomato.csv', encoding='latin-1')\n",
    "countryCode_toName = {\n",
    "    1: \"India\",\n",
    "    14: \"Australia\",\n",
    "    30: \"Brazil\",\n",
    "    37: \"Canada\",\n",
    "    94: \"Indonesia\",\n",
    "    148: \"New Zealand\",\n",
    "    162: \"Phillipines\",\n",
    "    166: \"Qatar\",\n",
    "    184: \"Singapore\",\n",
    "    189: \"South Africa\",\n",
    "    191: \"Sri Lanka\",\n",
    "    208: \"Turkey\",\n",
    "    214: \"UAE\",\n",
    "    215: \"United Kingdom\",\n",
    "    216: \"United States\",\n",
    "}\n",
    "res_data['Country'] = res_data['Country Code'].apply(lambda x: countryCode_toName[x])"
   ]
  },
  {
   "cell_type": "code",
   "execution_count": 3,
   "id": "wired-square",
   "metadata": {},
   "outputs": [
    {
     "name": "stdout",
     "output_type": "stream",
     "text": [
      "<class 'pandas.core.frame.DataFrame'>\n",
      "Int64Index: 20 entries, 2480 to 2499\n",
      "Data columns (total 23 columns):\n",
      " #   Column                Non-Null Count  Dtype  \n",
      "---  ------                --------------  -----  \n",
      " 0   Restaurant ID         20 non-null     int64  \n",
      " 1   Restaurant Name       20 non-null     object \n",
      " 2   Country Code          20 non-null     int64  \n",
      " 3   City                  20 non-null     object \n",
      " 4   Address               20 non-null     object \n",
      " 5   Locality              20 non-null     object \n",
      " 6   Locality Verbose      20 non-null     object \n",
      " 7   Longitude             20 non-null     float64\n",
      " 8   Latitude              20 non-null     float64\n",
      " 9   Cuisines              20 non-null     object \n",
      " 10  Average Cost for two  20 non-null     int64  \n",
      " 11  Currency              20 non-null     object \n",
      " 12  Has Table booking     20 non-null     object \n",
      " 13  Has Online delivery   20 non-null     object \n",
      " 14  Is delivering now     20 non-null     object \n",
      " 15  Switch to order menu  20 non-null     object \n",
      " 16  Price range           20 non-null     int64  \n",
      " 17  Aggregate rating      20 non-null     float64\n",
      " 18  Rating color          20 non-null     object \n",
      " 19  Rating text           20 non-null     object \n",
      " 20  Votes                 20 non-null     int64  \n",
      " 21  Country               20 non-null     object \n",
      " 22  fusion_num            20 non-null     int64  \n",
      "dtypes: float64(3), int64(6), object(14)\n",
      "memory usage: 3.8+ KB\n"
     ]
    }
   ],
   "source": [
    "\n",
    "res_data = res_data.loc[(res_data['Country Code'] == 1) & (res_data['City'] == 'Mumbai'), :]\n",
    "res_data = res_data.loc[res_data['Longitude'] != 0, :]\n",
    "res_data = res_data.loc[res_data['Latitude'] != 0, :]\n",
    "res_data = res_data.loc[res_data['Latitude'] < 29] # clearing out invalid outlier\n",
    "res_data = res_data.loc[res_data['Rating text'] != 'Not rated']\n",
    "res_data['Cuisines'] = res_data['Cuisines'].astype(str)\n",
    "res_data['fusion_num'] = res_data['Cuisines'].apply(lambda x: len(x.split(',')))\n",
    "res_data.info()\n"
   ]
  },
  {
   "cell_type": "code",
   "execution_count": 4,
   "id": "searching-imagination",
   "metadata": {},
   "outputs": [
    {
     "ename": "NameError",
     "evalue": "name 'Counter' is not defined",
     "output_type": "error",
     "traceback": [
      "\u001b[1;31m---------------------------------------------------------------------------\u001b[0m",
      "\u001b[1;31mNameError\u001b[0m                                 Traceback (most recent call last)",
      "\u001b[1;32m<ipython-input-4-3f2883dc5882>\u001b[0m in \u001b[0;36m<module>\u001b[1;34m\u001b[0m\n\u001b[0;32m      1\u001b[0m \u001b[0mlst_cuisine\u001b[0m \u001b[1;33m=\u001b[0m \u001b[0mset\u001b[0m\u001b[1;33m(\u001b[0m\u001b[1;33m)\u001b[0m\u001b[1;33m\u001b[0m\u001b[1;33m\u001b[0m\u001b[0m\n\u001b[1;32m----> 2\u001b[1;33m \u001b[0mCnt_cuisine\u001b[0m \u001b[1;33m=\u001b[0m \u001b[0mCounter\u001b[0m\u001b[1;33m(\u001b[0m\u001b[1;33m)\u001b[0m\u001b[1;33m\u001b[0m\u001b[1;33m\u001b[0m\u001b[0m\n\u001b[0m\u001b[0;32m      3\u001b[0m \u001b[1;32mfor\u001b[0m \u001b[0mcu_lst\u001b[0m \u001b[1;32min\u001b[0m \u001b[0mres_data\u001b[0m\u001b[1;33m[\u001b[0m\u001b[1;34m'Cuisines'\u001b[0m\u001b[1;33m]\u001b[0m\u001b[1;33m:\u001b[0m\u001b[1;33m\u001b[0m\u001b[1;33m\u001b[0m\u001b[0m\n\u001b[0;32m      4\u001b[0m     \u001b[0mcu_lst\u001b[0m \u001b[1;33m=\u001b[0m \u001b[0mcu_lst\u001b[0m\u001b[1;33m.\u001b[0m\u001b[0msplit\u001b[0m\u001b[1;33m(\u001b[0m\u001b[1;34m','\u001b[0m\u001b[1;33m)\u001b[0m\u001b[1;33m\u001b[0m\u001b[1;33m\u001b[0m\u001b[0m\n\u001b[0;32m      5\u001b[0m     \u001b[0mlst_cuisine\u001b[0m\u001b[1;33m.\u001b[0m\u001b[0mupdate\u001b[0m\u001b[1;33m(\u001b[0m\u001b[1;33m[\u001b[0m\u001b[0mcu\u001b[0m\u001b[1;33m.\u001b[0m\u001b[0mstrip\u001b[0m\u001b[1;33m(\u001b[0m\u001b[1;33m)\u001b[0m \u001b[1;32mfor\u001b[0m \u001b[0mcu\u001b[0m \u001b[1;32min\u001b[0m \u001b[0mcu_lst\u001b[0m\u001b[1;33m]\u001b[0m\u001b[1;33m)\u001b[0m\u001b[1;33m\u001b[0m\u001b[1;33m\u001b[0m\u001b[0m\n",
      "\u001b[1;31mNameError\u001b[0m: name 'Counter' is not defined"
     ]
    }
   ],
   "source": [
    "lst_cuisine = set()\n",
    "Cnt_cuisine = Counter()\n",
    "for cu_lst in res_data['Cuisines']:\n",
    "    cu_lst = cu_lst.split(',')\n",
    "    lst_cuisine.update([cu.strip() for cu in cu_lst])\n",
    "    for cu in cu_lst:\n",
    "        Cnt_cuisine[cu.strip()] += 1\n",
    "\n",
    "cnt = pd.DataFrame.from_dict(Cnt_cuisine, orient = 'index')\n",
    "cnt.sort_values(0, ascending = False, inplace = True)\n",
    "\n",
    "tmp_cnt = cnt.head(10)\n",
    "tmp_cnt.rename(columns = {0:'cnt'}, inplace = True)\n",
    "with plt.style.context('bmh'):\n",
    "    f = plt.figure(figsize = (12, 8))\n",
    "    ax = plt.subplot2grid((2,2), (0,0))\n",
    "    sns.barplot(x = tmp_cnt.index, y = 'cnt', data = tmp_cnt, ax = ax, palette = sns.color_palette('Blues_d', 10))\n",
    "    ax.set_title('# Cuisine')\n",
    "    ax.tick_params(axis='x', rotation=70)\n",
    "    ax = plt.subplot2grid((2,2), (0,1))\n",
    "    sns.countplot(res_data['fusion_num'], ax=ax, palette = sns.color_palette('Blues_d', res_data.fusion_num.nunique()))\n",
    "    ax.set_title('# Cuisine Provided')\n",
    "    ax.set_ylabel('')\n",
    "    plt.show()        \n",
    "print('# Unique Cuisine: ', len(lst_cuisine))"
   ]
  },
  {
   "cell_type": "code",
   "execution_count": 5,
   "id": "entitled-anatomy",
   "metadata": {},
   "outputs": [],
   "source": [
    "res_data['Rating category'] = res_data['Rating text'].map({'Not rated': -1, 'Poor':0, 'Average':2, 'Good':3, 'Very Good':4, 'Excellent':5})\n",
    "tmp = res_data['Aggregate rating'].map(np.round)\n",
    "a = np.full(tmp.shape[0], False, dtype = bool)\n",
    "((tmp - res_data['Rating category']).map(np.round)).value_counts()\n",
    "sys_check = res_data[['Aggregate rating', 'Rating category', 'Votes']].copy()\n",
    "sys_check['distorted'] = (res_data['Aggregate rating'] - res_data['Rating category']).map(np.round)\n",
    "sys_check['diff'] = sys_check['Aggregate rating'] - sys_check['Rating category']\n",
    "res_data = res_data.loc[sys_check['distorted'] != 2, :]\n",
    "res_data['Rating category'] = res_data['Aggregate rating'].round(0).astype(int)"
   ]
  },
  {
   "cell_type": "code",
   "execution_count": 6,
   "id": "small-agency",
   "metadata": {},
   "outputs": [
    {
     "name": "stderr",
     "output_type": "stream",
     "text": [
      "<ipython-input-6-5aa626ab4c1a>:4: FutureWarning: Indexing with multiple keys (implicitly converted to a tuple of keys) will be deprecated, use a list instead.\n",
      "  pop_local = res_data.groupby('pos')['Longitude', 'Latitude', 'Aggregate rating'].agg({'Longitude':np.mean, 'Latitude':np.mean, 'Aggregate rating':np.median}).reset_index()\n"
     ]
    },
    {
     "ename": "NameError",
     "evalue": "name 'sns' is not defined",
     "output_type": "error",
     "traceback": [
      "\u001b[1;31m---------------------------------------------------------------------------\u001b[0m",
      "\u001b[1;31mNameError\u001b[0m                                 Traceback (most recent call last)",
      "\u001b[1;32m<ipython-input-6-5aa626ab4c1a>\u001b[0m in \u001b[0;36m<module>\u001b[1;34m\u001b[0m\n\u001b[0;32m      5\u001b[0m \u001b[1;33m\u001b[0m\u001b[0m\n\u001b[0;32m      6\u001b[0m \u001b[1;32mwith\u001b[0m \u001b[0mplt\u001b[0m\u001b[1;33m.\u001b[0m\u001b[0mstyle\u001b[0m\u001b[1;33m.\u001b[0m\u001b[0mcontext\u001b[0m\u001b[1;33m(\u001b[0m\u001b[1;34m'bmh'\u001b[0m\u001b[1;33m,\u001b[0m \u001b[0mafter_reset\u001b[0m\u001b[1;33m=\u001b[0m\u001b[1;32mTrue\u001b[0m\u001b[1;33m)\u001b[0m\u001b[1;33m:\u001b[0m\u001b[1;33m\u001b[0m\u001b[1;33m\u001b[0m\u001b[0m\n\u001b[1;32m----> 7\u001b[1;33m     \u001b[0mpal\u001b[0m \u001b[1;33m=\u001b[0m \u001b[0msns\u001b[0m\u001b[1;33m.\u001b[0m\u001b[0mcolor_palette\u001b[0m\u001b[1;33m(\u001b[0m\u001b[1;34m'Spectral'\u001b[0m\u001b[1;33m,\u001b[0m \u001b[1;36m7\u001b[0m\u001b[1;33m)\u001b[0m\u001b[1;33m\u001b[0m\u001b[1;33m\u001b[0m\u001b[0m\n\u001b[0m\u001b[0;32m      8\u001b[0m     \u001b[0mplt\u001b[0m\u001b[1;33m.\u001b[0m\u001b[0mfigure\u001b[0m\u001b[1;33m(\u001b[0m\u001b[0mfigsize\u001b[0m \u001b[1;33m=\u001b[0m \u001b[1;33m(\u001b[0m\u001b[1;36m8\u001b[0m\u001b[1;33m,\u001b[0m\u001b[1;36m6\u001b[0m\u001b[1;33m)\u001b[0m\u001b[1;33m)\u001b[0m\u001b[1;33m\u001b[0m\u001b[1;33m\u001b[0m\u001b[0m\n\u001b[0;32m      9\u001b[0m     \u001b[1;32mfor\u001b[0m \u001b[0mi\u001b[0m \u001b[1;32min\u001b[0m \u001b[0mrange\u001b[0m\u001b[1;33m(\u001b[0m\u001b[1;36m7\u001b[0m\u001b[1;33m)\u001b[0m\u001b[1;33m:\u001b[0m\u001b[1;33m\u001b[0m\u001b[1;33m\u001b[0m\u001b[0m\n",
      "\u001b[1;31mNameError\u001b[0m: name 'sns' is not defined"
     ]
    }
   ],
   "source": [
    "from sklearn.cluster import KMeans\n",
    "kmeans = KMeans(n_clusters=7, random_state=0).fit(res_data[['Longitude', 'Latitude']])\n",
    "res_data['pos'] = kmeans.labels_\n",
    "pop_local = res_data.groupby('pos')['Longitude', 'Latitude', 'Aggregate rating'].agg({'Longitude':np.mean, 'Latitude':np.mean, 'Aggregate rating':np.median}).reset_index()\n",
    "\n",
    "with plt.style.context('bmh', after_reset=True):\n",
    "    pal = sns.color_palette('Spectral', 7)\n",
    "    plt.figure(figsize = (8,6))\n",
    "    for i in range(7):\n",
    "        ix = res_data.pos == i\n",
    "        plt.scatter(res_data.loc[ix, 'Latitude'], res_data.loc[ix, 'Longitude'], color = pal[i], label = str(i))\n",
    "        plt.text(pop_local.loc[i, 'Latitude'], pop_local.loc[i, 'Longitude'], str(i) + ': '+str(pop_local.loc[i, 'Aggregate rating'].round(2)), fontsize = 14, color = 'black')\n",
    "    plt.title('Location-wise Restaurant Median Rating in New Delhi')\n",
    "    plt.legend()\n",
    "    plt.show()"
   ]
  },
  {
   "cell_type": "code",
   "execution_count": 7,
   "id": "covered-sound",
   "metadata": {},
   "outputs": [],
   "source": [
    "def search_comfort(mood):\n",
    "    lemmatizer = WordNetLemmatizer()\n",
    "    foodcount = {}\n",
    "    for i in range(124):\n",
    "        temp = [temps.strip().replace('.','').replace(',','').lower() for temps in str(food_data[\"comfort_food_reasons\"][i]).split(' ') if temps.strip() not in stop ]\n",
    "        if mood in temp:\n",
    "            foodtemp = [lemmatizer.lemmatize(temps.strip().replace('.','').replace(',','').lower()) for temps in str(food_data[\"comfort_food\"][i]).split(',') if temps.strip() not in stop ]\n",
    "            for a in foodtemp:\n",
    "                if a not in foodcount.keys():\n",
    "                    foodcount[a] = 1 \n",
    "                else:\n",
    "                    foodcount[a] += 1\n",
    "    sorted_food = []\n",
    "    sorted_food = sorted(foodcount, key=foodcount.get, reverse=True)\n",
    "    return sorted_food\n"
   ]
  },
  {
   "cell_type": "code",
   "execution_count": 8,
   "id": "atomic-handbook",
   "metadata": {},
   "outputs": [
    {
     "name": "stdout",
     "output_type": "stream",
     "text": [
      "Enter your Mood: happy\n"
     ]
    },
    {
     "ename": "NameError",
     "evalue": "name 'nltk' is not defined",
     "output_type": "error",
     "traceback": [
      "\u001b[1;31m---------------------------------------------------------------------------\u001b[0m",
      "\u001b[1;31mNameError\u001b[0m                                 Traceback (most recent call last)",
      "\u001b[1;32m<ipython-input-8-e560396673aa>\u001b[0m in \u001b[0;36m<module>\u001b[1;34m\u001b[0m\n\u001b[0;32m     23\u001b[0m     \u001b[0mprint\u001b[0m\u001b[1;33m(\u001b[0m\u001b[0mtopn\u001b[0m\u001b[1;33m[\u001b[0m\u001b[1;36m2\u001b[0m\u001b[1;33m]\u001b[0m\u001b[1;33m)\u001b[0m\u001b[1;33m\u001b[0m\u001b[1;33m\u001b[0m\u001b[0m\n\u001b[0;32m     24\u001b[0m \u001b[0mval\u001b[0m \u001b[1;33m=\u001b[0m \u001b[0minput\u001b[0m\u001b[1;33m(\u001b[0m\u001b[1;34m\"Enter your Mood: \"\u001b[0m\u001b[1;33m)\u001b[0m\u001b[1;33m\u001b[0m\u001b[1;33m\u001b[0m\u001b[0m\n\u001b[1;32m---> 25\u001b[1;33m \u001b[0mnltk\u001b[0m\u001b[1;33m.\u001b[0m\u001b[0mdownload\u001b[0m\u001b[1;33m(\u001b[0m\u001b[1;34m'wordnet'\u001b[0m\u001b[1;33m)\u001b[0m\u001b[1;33m\u001b[0m\u001b[1;33m\u001b[0m\u001b[0m\n\u001b[0m\u001b[0;32m     26\u001b[0m \u001b[0mfind_my_comfort_food\u001b[0m\u001b[1;33m(\u001b[0m\u001b[0mval\u001b[0m\u001b[1;33m)\u001b[0m\u001b[1;33m\u001b[0m\u001b[1;33m\u001b[0m\u001b[0m\n",
      "\u001b[1;31mNameError\u001b[0m: name 'nltk' is not defined"
     ]
    }
   ],
   "source": [
    "def search_comfort(mood):\n",
    "    lemmatizer = WordNetLemmatizer()\n",
    "    foodcount = {}\n",
    "    for i in range(124):\n",
    "        temp = [temps.strip().replace('.','').replace(',','').lower() for temps in str(food_data[\"comfort_food_reasons\"][i]).split(' ') if temps.strip() not in stop ]\n",
    "        if mood in temp:\n",
    "            foodtemp = [lemmatizer.lemmatize(temps.strip().replace('.','').replace(',','').lower()) for temps in str(food_data[\"comfort_food\"][i]).split(',') if temps.strip() not in stop ]\n",
    "            for a in foodtemp:\n",
    "                if a not in foodcount.keys():\n",
    "                    foodcount[a] = 1 \n",
    "                else:\n",
    "                    foodcount[a] += 1\n",
    "    sorted_food = []\n",
    "    sorted_food = sorted(foodcount, key=foodcount.get, reverse=True)\n",
    "    return sorted_food\n",
    "\n",
    "def find_my_comfort_food(mood):\n",
    "    topn = []\n",
    "    topn = search_comfort(mood) #function create dictionary only for particular mood\n",
    "    print(\"3 Popular Comfort Foods in %s are:\"%(mood))\n",
    "    print(topn[0])\n",
    "    print(topn[1])\n",
    "    print(topn[2])\n",
    "val = input(\"Enter your Mood: \")\n",
    "nltk.download('wordnet')\n",
    "find_my_comfort_food(val)\n"
   ]
  },
  {
   "cell_type": "code",
   "execution_count": null,
   "id": "defensive-rally",
   "metadata": {},
   "outputs": [],
   "source": []
  }
 ],
 "metadata": {
  "kernelspec": {
   "display_name": "Python 3",
   "language": "python",
   "name": "python3"
  },
  "language_info": {
   "codemirror_mode": {
    "name": "ipython",
    "version": 3
   },
   "file_extension": ".py",
   "mimetype": "text/x-python",
   "name": "python",
   "nbconvert_exporter": "python",
   "pygments_lexer": "ipython3",
   "version": "3.9.2"
  }
 },
 "nbformat": 4,
 "nbformat_minor": 5
}
