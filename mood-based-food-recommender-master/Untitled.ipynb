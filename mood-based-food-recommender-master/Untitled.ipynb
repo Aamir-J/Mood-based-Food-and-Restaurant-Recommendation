{
 "cells": [
  {
   "cell_type": "code",
   "execution_count": 1,
   "id": "radical-adams",
   "metadata": {},
   "outputs": [],
   "source": [
    "def search_comfort(mood):\n",
    "    lemmatizer = WordNetLemmatizer()\n",
    "    foodcount = {}\n",
    "    for i in range(124):\n",
    "        temp = [temps.strip().replace('.','').replace(',','').lower() for temps in str(food_data[\"comfort_food_reasons\"][i]).split(' ') if temps.strip() not in stop ]\n",
    "        if mood in temp:\n",
    "            foodtemp = [lemmatizer.lemmatize(temps.strip().replace('.','').replace(',','').lower()) for temps in str(food_data[\"comfort_food\"][i]).split(',') if temps.strip() not in stop ]\n",
    "            for a in foodtemp:\n",
    "                if a not in foodcount.keys():\n",
    "                    foodcount[a] = 1 \n",
    "                else:\n",
    "                    foodcount[a] += 1\n",
    "    sorted_food = []\n",
    "    sorted_food = sorted(foodcount, key=foodcount.get, reverse=True)\n",
    "    return sorted_food\n"
   ]
  },
  {
   "cell_type": "code",
   "execution_count": 2,
   "id": "egyptian-platinum",
   "metadata": {},
   "outputs": [
    {
     "name": "stdout",
     "output_type": "stream",
     "text": [
      "Enter your Mood: Happy\n"
     ]
    },
    {
     "ename": "NameError",
     "evalue": "name 'nltk' is not defined",
     "output_type": "error",
     "traceback": [
      "\u001b[1;31m---------------------------------------------------------------------------\u001b[0m",
      "\u001b[1;31mNameError\u001b[0m                                 Traceback (most recent call last)",
      "\u001b[1;32m<ipython-input-2-60545377dc3b>\u001b[0m in \u001b[0;36m<module>\u001b[1;34m\u001b[0m\n\u001b[0;32m      7\u001b[0m     \u001b[0mprint\u001b[0m\u001b[1;33m(\u001b[0m\u001b[0mtopn\u001b[0m\u001b[1;33m[\u001b[0m\u001b[1;36m2\u001b[0m\u001b[1;33m]\u001b[0m\u001b[1;33m)\u001b[0m\u001b[1;33m\u001b[0m\u001b[1;33m\u001b[0m\u001b[0m\n\u001b[0;32m      8\u001b[0m \u001b[0mval\u001b[0m \u001b[1;33m=\u001b[0m \u001b[0minput\u001b[0m\u001b[1;33m(\u001b[0m\u001b[1;34m\"Enter your Mood: \"\u001b[0m\u001b[1;33m)\u001b[0m\u001b[1;33m\u001b[0m\u001b[1;33m\u001b[0m\u001b[0m\n\u001b[1;32m----> 9\u001b[1;33m \u001b[0mnltk\u001b[0m\u001b[1;33m.\u001b[0m\u001b[0mdownload\u001b[0m\u001b[1;33m(\u001b[0m\u001b[1;34m'wordnet'\u001b[0m\u001b[1;33m)\u001b[0m\u001b[1;33m\u001b[0m\u001b[1;33m\u001b[0m\u001b[0m\n\u001b[0m\u001b[0;32m     10\u001b[0m \u001b[0mfind_my_comfort_food\u001b[0m\u001b[1;33m(\u001b[0m\u001b[0mval\u001b[0m\u001b[1;33m)\u001b[0m\u001b[1;33m\u001b[0m\u001b[1;33m\u001b[0m\u001b[0m\n",
      "\u001b[1;31mNameError\u001b[0m: name 'nltk' is not defined"
     ]
    }
   ],
   "source": [
    "def find_my_comfort_food(mood):\n",
    "    topn = []\n",
    "    topn = search_comfort(mood) #function create dictionary only for particular mood\n",
    "    print(\"3 Popular Comfort Foods in %s are:\"%(mood))\n",
    "    print(topn[0])\n",
    "    print(topn[1])\n",
    "    print(topn[2])\n",
    "val = input(\"Enter your Mood: \")\n",
    "nltk.download('wordnet')\n",
    "find_my_comfort_food(val)\n"
   ]
  },
  {
   "cell_type": "code",
   "execution_count": 3,
   "id": "musical-surge",
   "metadata": {},
   "outputs": [
    {
     "name": "stdout",
     "output_type": "stream",
     "text": [
      "Enter your Mood: happy\n"
     ]
    },
    {
     "ename": "NameError",
     "evalue": "name 'nltk' is not defined",
     "output_type": "error",
     "traceback": [
      "\u001b[1;31m---------------------------------------------------------------------------\u001b[0m",
      "\u001b[1;31mNameError\u001b[0m                                 Traceback (most recent call last)",
      "\u001b[1;32m<ipython-input-3-60545377dc3b>\u001b[0m in \u001b[0;36m<module>\u001b[1;34m\u001b[0m\n\u001b[0;32m      7\u001b[0m     \u001b[0mprint\u001b[0m\u001b[1;33m(\u001b[0m\u001b[0mtopn\u001b[0m\u001b[1;33m[\u001b[0m\u001b[1;36m2\u001b[0m\u001b[1;33m]\u001b[0m\u001b[1;33m)\u001b[0m\u001b[1;33m\u001b[0m\u001b[1;33m\u001b[0m\u001b[0m\n\u001b[0;32m      8\u001b[0m \u001b[0mval\u001b[0m \u001b[1;33m=\u001b[0m \u001b[0minput\u001b[0m\u001b[1;33m(\u001b[0m\u001b[1;34m\"Enter your Mood: \"\u001b[0m\u001b[1;33m)\u001b[0m\u001b[1;33m\u001b[0m\u001b[1;33m\u001b[0m\u001b[0m\n\u001b[1;32m----> 9\u001b[1;33m \u001b[0mnltk\u001b[0m\u001b[1;33m.\u001b[0m\u001b[0mdownload\u001b[0m\u001b[1;33m(\u001b[0m\u001b[1;34m'wordnet'\u001b[0m\u001b[1;33m)\u001b[0m\u001b[1;33m\u001b[0m\u001b[1;33m\u001b[0m\u001b[0m\n\u001b[0m\u001b[0;32m     10\u001b[0m \u001b[0mfind_my_comfort_food\u001b[0m\u001b[1;33m(\u001b[0m\u001b[0mval\u001b[0m\u001b[1;33m)\u001b[0m\u001b[1;33m\u001b[0m\u001b[1;33m\u001b[0m\u001b[0m\n",
      "\u001b[1;31mNameError\u001b[0m: name 'nltk' is not defined"
     ]
    }
   ],
   "source": [
    "def find_my_comfort_food(mood):\n",
    "    topn = []\n",
    "    topn = search_comfort(mood) #function create dictionary only for particular mood\n",
    "    print(\"3 Popular Comfort Foods in %s are:\"%(mood))\n",
    "    print(topn[0])\n",
    "    print(topn[1])\n",
    "    print(topn[2])\n",
    "val = input(\"Enter your Mood: \")\n",
    "nltk.download('wordnet')\n",
    "find_my_comfort_food(val)\n"
   ]
  },
  {
   "cell_type": "code",
   "execution_count": null,
   "id": "joint-geometry",
   "metadata": {},
   "outputs": [],
   "source": []
  }
 ],
 "metadata": {
  "kernelspec": {
   "display_name": "Python 3",
   "language": "python",
   "name": "python3"
  },
  "language_info": {
   "codemirror_mode": {
    "name": "ipython",
    "version": 3
   },
   "file_extension": ".py",
   "mimetype": "text/x-python",
   "name": "python",
   "nbconvert_exporter": "python",
   "pygments_lexer": "ipython3",
   "version": "3.9.2"
  }
 },
 "nbformat": 4,
 "nbformat_minor": 5
}
